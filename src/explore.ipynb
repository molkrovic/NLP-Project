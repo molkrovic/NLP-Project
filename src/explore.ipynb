{
    "cells": [
        {
            "cell_type": "markdown",
            "metadata": {},
            "source": [
                "#### **NLP Project Tutorial**\n",
                "##### **URL Spam detector**"
            ]
        },
        {
            "cell_type": "markdown",
            "metadata": {},
            "source": [
                "**Instalar e importar librerías y cargar dataset**"
            ]
        },
        {
            "cell_type": "code",
            "execution_count": 2,
            "metadata": {},
            "outputs": [],
            "source": [
                "%%capture\n",
                "!pip install -r ../requirements.txt"
            ]
        },
        {
            "cell_type": "code",
            "execution_count": 3,
            "metadata": {},
            "outputs": [],
            "source": [
                "import pandas as pd\n",
                "import re\n",
                "from sklearn.feature_extraction.text import CountVectorizer\n",
                "from sklearn.model_selection import train_test_split, GridSearchCV\n",
                "from sklearn import model_selection, svm\n",
                "from sklearn.svm import SVC\n",
                "from sklearn.metrics import classification_report, accuracy_score"
            ]
        },
        {
            "cell_type": "code",
            "execution_count": 16,
            "metadata": {},
            "outputs": [],
            "source": [
                "url = 'https://raw.githubusercontent.com/4GeeksAcademy/NLP-project-tutorial/main/url_spam.csv'\n",
                "\n",
                "df_raw = pd.read_csv(url)"
            ]
        },
        {
            "cell_type": "markdown",
            "metadata": {},
            "source": [
                "**Primeras observaciones**"
            ]
        },
        {
            "cell_type": "code",
            "execution_count": 17,
            "metadata": {},
            "outputs": [
                {
                    "name": "stdout",
                    "output_type": "stream",
                    "text": [
                        "<class 'pandas.core.frame.DataFrame'>\n",
                        "RangeIndex: 2999 entries, 0 to 2998\n",
                        "Data columns (total 2 columns):\n",
                        " #   Column   Non-Null Count  Dtype \n",
                        "---  ------   --------------  ----- \n",
                        " 0   url      2999 non-null   object\n",
                        " 1   is_spam  2999 non-null   bool  \n",
                        "dtypes: bool(1), object(1)\n",
                        "memory usage: 26.5+ KB\n"
                    ]
                }
            ],
            "source": [
                "df_raw.info()"
            ]
        },
        {
            "cell_type": "code",
            "execution_count": 18,
            "metadata": {},
            "outputs": [
                {
                    "data": {
                        "text/html": [
                            "<div>\n",
                            "<style scoped>\n",
                            "    .dataframe tbody tr th:only-of-type {\n",
                            "        vertical-align: middle;\n",
                            "    }\n",
                            "\n",
                            "    .dataframe tbody tr th {\n",
                            "        vertical-align: top;\n",
                            "    }\n",
                            "\n",
                            "    .dataframe thead th {\n",
                            "        text-align: right;\n",
                            "    }\n",
                            "</style>\n",
                            "<table border=\"1\" class=\"dataframe\">\n",
                            "  <thead>\n",
                            "    <tr style=\"text-align: right;\">\n",
                            "      <th></th>\n",
                            "      <th>url</th>\n",
                            "      <th>is_spam</th>\n",
                            "    </tr>\n",
                            "  </thead>\n",
                            "  <tbody>\n",
                            "    <tr>\n",
                            "      <th>1617</th>\n",
                            "      <td>https://www.morningbrew.com/daily/r/</td>\n",
                            "      <td>True</td>\n",
                            "    </tr>\n",
                            "    <tr>\n",
                            "      <th>2222</th>\n",
                            "      <td>https://www.businessinsider.com/air-traffic-du...</td>\n",
                            "      <td>False</td>\n",
                            "    </tr>\n",
                            "    <tr>\n",
                            "      <th>969</th>\n",
                            "      <td>https://www.nytimes.com/interactive/2019/08/14...</td>\n",
                            "      <td>False</td>\n",
                            "    </tr>\n",
                            "    <tr>\n",
                            "      <th>2390</th>\n",
                            "      <td>https://www.npr.org/2020/04/11/830390452/the-s...</td>\n",
                            "      <td>False</td>\n",
                            "    </tr>\n",
                            "    <tr>\n",
                            "      <th>1481</th>\n",
                            "      <td>https://www.perininetworks.com/terms-conditions/</td>\n",
                            "      <td>True</td>\n",
                            "    </tr>\n",
                            "  </tbody>\n",
                            "</table>\n",
                            "</div>"
                        ],
                        "text/plain": [
                            "                                                    url  is_spam\n",
                            "1617               https://www.morningbrew.com/daily/r/     True\n",
                            "2222  https://www.businessinsider.com/air-traffic-du...    False\n",
                            "969   https://www.nytimes.com/interactive/2019/08/14...    False\n",
                            "2390  https://www.npr.org/2020/04/11/830390452/the-s...    False\n",
                            "1481   https://www.perininetworks.com/terms-conditions/     True"
                        ]
                    },
                    "execution_count": 18,
                    "metadata": {},
                    "output_type": "execute_result"
                }
            ],
            "source": [
                "df_raw.sample(5)"
            ]
        },
        {
            "cell_type": "code",
            "execution_count": 19,
            "metadata": {},
            "outputs": [
                {
                    "data": {
                        "text/plain": [
                            "False    2303\n",
                            "True      696\n",
                            "Name: is_spam, dtype: int64"
                        ]
                    },
                    "execution_count": 19,
                    "metadata": {},
                    "output_type": "execute_result"
                }
            ],
            "source": [
                "df_raw['is_spam'].value_counts()"
            ]
        },
        {
            "cell_type": "markdown",
            "metadata": {},
            "source": [
                "**Limpieza y procesamiento**"
            ]
        },
        {
            "cell_type": "code",
            "execution_count": 20,
            "metadata": {},
            "outputs": [],
            "source": [
                "df = df_raw.copy()"
            ]
        },
        {
            "cell_type": "code",
            "execution_count": 21,
            "metadata": {},
            "outputs": [
                {
                    "data": {
                        "text/html": [
                            "<div>\n",
                            "<style scoped>\n",
                            "    .dataframe tbody tr th:only-of-type {\n",
                            "        vertical-align: middle;\n",
                            "    }\n",
                            "\n",
                            "    .dataframe tbody tr th {\n",
                            "        vertical-align: top;\n",
                            "    }\n",
                            "\n",
                            "    .dataframe thead th {\n",
                            "        text-align: right;\n",
                            "    }\n",
                            "</style>\n",
                            "<table border=\"1\" class=\"dataframe\">\n",
                            "  <thead>\n",
                            "    <tr style=\"text-align: right;\">\n",
                            "      <th></th>\n",
                            "      <th>url</th>\n",
                            "      <th>is_spam</th>\n",
                            "    </tr>\n",
                            "  </thead>\n",
                            "  <tbody>\n",
                            "    <tr>\n",
                            "      <th>0</th>\n",
                            "      <td>https://briefingday.us8.list-manage.com/unsubs...</td>\n",
                            "      <td>True</td>\n",
                            "    </tr>\n",
                            "    <tr>\n",
                            "      <th>1</th>\n",
                            "      <td>https://www.hvper.com/</td>\n",
                            "      <td>True</td>\n",
                            "    </tr>\n",
                            "    <tr>\n",
                            "      <th>2</th>\n",
                            "      <td>https://briefingday.com/m/v4n3i4f3</td>\n",
                            "      <td>True</td>\n",
                            "    </tr>\n",
                            "    <tr>\n",
                            "      <th>3</th>\n",
                            "      <td>https://briefingday.com/n/20200618/m#commentform</td>\n",
                            "      <td>False</td>\n",
                            "    </tr>\n",
                            "    <tr>\n",
                            "      <th>4</th>\n",
                            "      <td>https://briefingday.com/fan</td>\n",
                            "      <td>True</td>\n",
                            "    </tr>\n",
                            "    <tr>\n",
                            "      <th>...</th>\n",
                            "      <td>...</td>\n",
                            "      <td>...</td>\n",
                            "    </tr>\n",
                            "    <tr>\n",
                            "      <th>2993</th>\n",
                            "      <td>https://www.theverge.com/2020/6/29/21306889/di...</td>\n",
                            "      <td>False</td>\n",
                            "    </tr>\n",
                            "    <tr>\n",
                            "      <th>2994</th>\n",
                            "      <td>https://www.smartcitiesworld.net/news/news/dee...</td>\n",
                            "      <td>False</td>\n",
                            "    </tr>\n",
                            "    <tr>\n",
                            "      <th>2996</th>\n",
                            "      <td>https://techcrunch.com/2019/07/04/an-optimisti...</td>\n",
                            "      <td>False</td>\n",
                            "    </tr>\n",
                            "    <tr>\n",
                            "      <th>2997</th>\n",
                            "      <td>https://www.technologyreview.com/2019/12/20/13...</td>\n",
                            "      <td>False</td>\n",
                            "    </tr>\n",
                            "    <tr>\n",
                            "      <th>2998</th>\n",
                            "      <td>https://www.bbc.com/news/technology-51018758</td>\n",
                            "      <td>False</td>\n",
                            "    </tr>\n",
                            "  </tbody>\n",
                            "</table>\n",
                            "<p>2369 rows × 2 columns</p>\n",
                            "</div>"
                        ],
                        "text/plain": [
                            "                                                    url  is_spam\n",
                            "0     https://briefingday.us8.list-manage.com/unsubs...     True\n",
                            "1                                https://www.hvper.com/     True\n",
                            "2                    https://briefingday.com/m/v4n3i4f3     True\n",
                            "3      https://briefingday.com/n/20200618/m#commentform    False\n",
                            "4                           https://briefingday.com/fan     True\n",
                            "...                                                 ...      ...\n",
                            "2993  https://www.theverge.com/2020/6/29/21306889/di...    False\n",
                            "2994  https://www.smartcitiesworld.net/news/news/dee...    False\n",
                            "2996  https://techcrunch.com/2019/07/04/an-optimisti...    False\n",
                            "2997  https://www.technologyreview.com/2019/12/20/13...    False\n",
                            "2998       https://www.bbc.com/news/technology-51018758    False\n",
                            "\n",
                            "[2369 rows x 2 columns]"
                        ]
                    },
                    "execution_count": 21,
                    "metadata": {},
                    "output_type": "execute_result"
                }
            ],
            "source": [
                "df.drop_duplicates()"
            ]
        },
        {
            "cell_type": "code",
            "execution_count": 22,
            "metadata": {},
            "outputs": [],
            "source": [
                "df['url'] = df['url'].str.lower()"
            ]
        },
        {
            "cell_type": "code",
            "execution_count": 23,
            "metadata": {},
            "outputs": [],
            "source": [
                "def eliminar_https(texto):\n",
                "    return re.sub(r'(https://www|https://)', '', texto)"
            ]
        },
        {
            "cell_type": "code",
            "execution_count": 24,
            "metadata": {},
            "outputs": [],
            "source": [
                "# Sustituye caracteres no alfanuméricos\n",
                "def caracteres_no_alfanumericos(texto):\n",
                "    return re.sub(\"(\\\\W)+\",\" \", texto)"
            ]
        },
        {
            "cell_type": "code",
            "execution_count": 25,
            "metadata": {},
            "outputs": [],
            "source": [
                "#Sustituye los espacios dobles entre palabras\n",
                "def esp_multiple(texto):\n",
                "    return re.sub(' +', ' ',texto)"
            ]
        },
        {
            "cell_type": "code",
            "execution_count": 26,
            "metadata": {},
            "outputs": [],
            "source": [
                "df['url_limpia'] = df['url'].apply(eliminar_https).apply(caracteres_no_alfanumericos).apply(esp_multiple)"
            ]
        },
        {
            "cell_type": "code",
            "execution_count": 27,
            "metadata": {},
            "outputs": [
                {
                    "data": {
                        "text/html": [
                            "<div>\n",
                            "<style scoped>\n",
                            "    .dataframe tbody tr th:only-of-type {\n",
                            "        vertical-align: middle;\n",
                            "    }\n",
                            "\n",
                            "    .dataframe tbody tr th {\n",
                            "        vertical-align: top;\n",
                            "    }\n",
                            "\n",
                            "    .dataframe thead th {\n",
                            "        text-align: right;\n",
                            "    }\n",
                            "</style>\n",
                            "<table border=\"1\" class=\"dataframe\">\n",
                            "  <thead>\n",
                            "    <tr style=\"text-align: right;\">\n",
                            "      <th></th>\n",
                            "      <th>url</th>\n",
                            "      <th>is_spam</th>\n",
                            "      <th>url_limpia</th>\n",
                            "    </tr>\n",
                            "  </thead>\n",
                            "  <tbody>\n",
                            "    <tr>\n",
                            "      <th>0</th>\n",
                            "      <td>https://briefingday.us8.list-manage.com/unsubs...</td>\n",
                            "      <td>True</td>\n",
                            "      <td>briefingday us8 list manage com unsubscribe</td>\n",
                            "    </tr>\n",
                            "    <tr>\n",
                            "      <th>1</th>\n",
                            "      <td>https://www.hvper.com/</td>\n",
                            "      <td>True</td>\n",
                            "      <td>hvper com</td>\n",
                            "    </tr>\n",
                            "    <tr>\n",
                            "      <th>2</th>\n",
                            "      <td>https://briefingday.com/m/v4n3i4f3</td>\n",
                            "      <td>True</td>\n",
                            "      <td>briefingday com m v4n3i4f3</td>\n",
                            "    </tr>\n",
                            "    <tr>\n",
                            "      <th>3</th>\n",
                            "      <td>https://briefingday.com/n/20200618/m#commentform</td>\n",
                            "      <td>False</td>\n",
                            "      <td>briefingday com n 20200618 m commentform</td>\n",
                            "    </tr>\n",
                            "    <tr>\n",
                            "      <th>4</th>\n",
                            "      <td>https://briefingday.com/fan</td>\n",
                            "      <td>True</td>\n",
                            "      <td>briefingday com fan</td>\n",
                            "    </tr>\n",
                            "  </tbody>\n",
                            "</table>\n",
                            "</div>"
                        ],
                        "text/plain": [
                            "                                                 url  is_spam  \\\n",
                            "0  https://briefingday.us8.list-manage.com/unsubs...     True   \n",
                            "1                             https://www.hvper.com/     True   \n",
                            "2                 https://briefingday.com/m/v4n3i4f3     True   \n",
                            "3   https://briefingday.com/n/20200618/m#commentform    False   \n",
                            "4                        https://briefingday.com/fan     True   \n",
                            "\n",
                            "                                    url_limpia  \n",
                            "0  briefingday us8 list manage com unsubscribe  \n",
                            "1                                   hvper com   \n",
                            "2                   briefingday com m v4n3i4f3  \n",
                            "3     briefingday com n 20200618 m commentform  \n",
                            "4                          briefingday com fan  "
                        ]
                    },
                    "execution_count": 27,
                    "metadata": {},
                    "output_type": "execute_result"
                }
            ],
            "source": [
                "df.head()"
            ]
        },
        {
            "cell_type": "code",
            "execution_count": 28,
            "metadata": {},
            "outputs": [],
            "source": [
                "df['is_spam'] = df['is_spam'].apply(lambda x: 1 if x==True else 0)"
            ]
        },
        {
            "cell_type": "code",
            "execution_count": 29,
            "metadata": {},
            "outputs": [
                {
                    "data": {
                        "text/html": [
                            "<div>\n",
                            "<style scoped>\n",
                            "    .dataframe tbody tr th:only-of-type {\n",
                            "        vertical-align: middle;\n",
                            "    }\n",
                            "\n",
                            "    .dataframe tbody tr th {\n",
                            "        vertical-align: top;\n",
                            "    }\n",
                            "\n",
                            "    .dataframe thead th {\n",
                            "        text-align: right;\n",
                            "    }\n",
                            "</style>\n",
                            "<table border=\"1\" class=\"dataframe\">\n",
                            "  <thead>\n",
                            "    <tr style=\"text-align: right;\">\n",
                            "      <th></th>\n",
                            "      <th>url</th>\n",
                            "      <th>is_spam</th>\n",
                            "      <th>url_limpia</th>\n",
                            "    </tr>\n",
                            "  </thead>\n",
                            "  <tbody>\n",
                            "    <tr>\n",
                            "      <th>0</th>\n",
                            "      <td>https://briefingday.us8.list-manage.com/unsubs...</td>\n",
                            "      <td>1</td>\n",
                            "      <td>briefingday us8 list manage com unsubscribe</td>\n",
                            "    </tr>\n",
                            "    <tr>\n",
                            "      <th>1</th>\n",
                            "      <td>https://www.hvper.com/</td>\n",
                            "      <td>1</td>\n",
                            "      <td>hvper com</td>\n",
                            "    </tr>\n",
                            "    <tr>\n",
                            "      <th>2</th>\n",
                            "      <td>https://briefingday.com/m/v4n3i4f3</td>\n",
                            "      <td>1</td>\n",
                            "      <td>briefingday com m v4n3i4f3</td>\n",
                            "    </tr>\n",
                            "    <tr>\n",
                            "      <th>3</th>\n",
                            "      <td>https://briefingday.com/n/20200618/m#commentform</td>\n",
                            "      <td>0</td>\n",
                            "      <td>briefingday com n 20200618 m commentform</td>\n",
                            "    </tr>\n",
                            "    <tr>\n",
                            "      <th>4</th>\n",
                            "      <td>https://briefingday.com/fan</td>\n",
                            "      <td>1</td>\n",
                            "      <td>briefingday com fan</td>\n",
                            "    </tr>\n",
                            "  </tbody>\n",
                            "</table>\n",
                            "</div>"
                        ],
                        "text/plain": [
                            "                                                 url  is_spam  \\\n",
                            "0  https://briefingday.us8.list-manage.com/unsubs...        1   \n",
                            "1                             https://www.hvper.com/        1   \n",
                            "2                 https://briefingday.com/m/v4n3i4f3        1   \n",
                            "3   https://briefingday.com/n/20200618/m#commentform        0   \n",
                            "4                        https://briefingday.com/fan        1   \n",
                            "\n",
                            "                                    url_limpia  \n",
                            "0  briefingday us8 list manage com unsubscribe  \n",
                            "1                                   hvper com   \n",
                            "2                   briefingday com m v4n3i4f3  \n",
                            "3     briefingday com n 20200618 m commentform  \n",
                            "4                          briefingday com fan  "
                        ]
                    },
                    "execution_count": 29,
                    "metadata": {},
                    "output_type": "execute_result"
                }
            ],
            "source": [
                "df.head()"
            ]
        },
        {
            "cell_type": "markdown",
            "metadata": {},
            "source": [
                "**Construcción y evaluación del modelo**"
            ]
        },
        {
            "cell_type": "code",
            "execution_count": 30,
            "metadata": {},
            "outputs": [],
            "source": [
                "X = df['url_limpia']\n",
                "y = df['is_spam']"
            ]
        },
        {
            "cell_type": "code",
            "execution_count": 31,
            "metadata": {},
            "outputs": [],
            "source": [
                "X_train, X_test, y_train, y_test = train_test_split(X, y, stratify=y, random_state=12)"
            ]
        },
        {
            "cell_type": "code",
            "execution_count": 32,
            "metadata": {},
            "outputs": [],
            "source": [
                "vec = CountVectorizer()\n",
                "\n",
                "X_train = vec.fit_transform(X_train).toarray()\n",
                "X_test = vec.transform(X_test).toarray()"
            ]
        },
        {
            "cell_type": "code",
            "execution_count": 33,
            "metadata": {},
            "outputs": [],
            "source": [
                "classifier = svm.SVC(C=1.0, kernel='linear', gamma='auto')"
            ]
        },
        {
            "cell_type": "code",
            "execution_count": 34,
            "metadata": {},
            "outputs": [
                {
                    "data": {
                        "text/html": [
                            "<style>#sk-container-id-1 {color: black;background-color: white;}#sk-container-id-1 pre{padding: 0;}#sk-container-id-1 div.sk-toggleable {background-color: white;}#sk-container-id-1 label.sk-toggleable__label {cursor: pointer;display: block;width: 100%;margin-bottom: 0;padding: 0.3em;box-sizing: border-box;text-align: center;}#sk-container-id-1 label.sk-toggleable__label-arrow:before {content: \"▸\";float: left;margin-right: 0.25em;color: #696969;}#sk-container-id-1 label.sk-toggleable__label-arrow:hover:before {color: black;}#sk-container-id-1 div.sk-estimator:hover label.sk-toggleable__label-arrow:before {color: black;}#sk-container-id-1 div.sk-toggleable__content {max-height: 0;max-width: 0;overflow: hidden;text-align: left;background-color: #f0f8ff;}#sk-container-id-1 div.sk-toggleable__content pre {margin: 0.2em;color: black;border-radius: 0.25em;background-color: #f0f8ff;}#sk-container-id-1 input.sk-toggleable__control:checked~div.sk-toggleable__content {max-height: 200px;max-width: 100%;overflow: auto;}#sk-container-id-1 input.sk-toggleable__control:checked~label.sk-toggleable__label-arrow:before {content: \"▾\";}#sk-container-id-1 div.sk-estimator input.sk-toggleable__control:checked~label.sk-toggleable__label {background-color: #d4ebff;}#sk-container-id-1 div.sk-label input.sk-toggleable__control:checked~label.sk-toggleable__label {background-color: #d4ebff;}#sk-container-id-1 input.sk-hidden--visually {border: 0;clip: rect(1px 1px 1px 1px);clip: rect(1px, 1px, 1px, 1px);height: 1px;margin: -1px;overflow: hidden;padding: 0;position: absolute;width: 1px;}#sk-container-id-1 div.sk-estimator {font-family: monospace;background-color: #f0f8ff;border: 1px dotted black;border-radius: 0.25em;box-sizing: border-box;margin-bottom: 0.5em;}#sk-container-id-1 div.sk-estimator:hover {background-color: #d4ebff;}#sk-container-id-1 div.sk-parallel-item::after {content: \"\";width: 100%;border-bottom: 1px solid gray;flex-grow: 1;}#sk-container-id-1 div.sk-label:hover label.sk-toggleable__label {background-color: #d4ebff;}#sk-container-id-1 div.sk-serial::before {content: \"\";position: absolute;border-left: 1px solid gray;box-sizing: border-box;top: 0;bottom: 0;left: 50%;z-index: 0;}#sk-container-id-1 div.sk-serial {display: flex;flex-direction: column;align-items: center;background-color: white;padding-right: 0.2em;padding-left: 0.2em;position: relative;}#sk-container-id-1 div.sk-item {position: relative;z-index: 1;}#sk-container-id-1 div.sk-parallel {display: flex;align-items: stretch;justify-content: center;background-color: white;position: relative;}#sk-container-id-1 div.sk-item::before, #sk-container-id-1 div.sk-parallel-item::before {content: \"\";position: absolute;border-left: 1px solid gray;box-sizing: border-box;top: 0;bottom: 0;left: 50%;z-index: -1;}#sk-container-id-1 div.sk-parallel-item {display: flex;flex-direction: column;z-index: 1;position: relative;background-color: white;}#sk-container-id-1 div.sk-parallel-item:first-child::after {align-self: flex-end;width: 50%;}#sk-container-id-1 div.sk-parallel-item:last-child::after {align-self: flex-start;width: 50%;}#sk-container-id-1 div.sk-parallel-item:only-child::after {width: 0;}#sk-container-id-1 div.sk-dashed-wrapped {border: 1px dashed gray;margin: 0 0.4em 0.5em 0.4em;box-sizing: border-box;padding-bottom: 0.4em;background-color: white;}#sk-container-id-1 div.sk-label label {font-family: monospace;font-weight: bold;display: inline-block;line-height: 1.2em;}#sk-container-id-1 div.sk-label-container {text-align: center;}#sk-container-id-1 div.sk-container {/* jupyter's `normalize.less` sets `[hidden] { display: none; }` but bootstrap.min.css set `[hidden] { display: none !important; }` so we also need the `!important` here to be able to override the default hidden behavior on the sphinx rendered scikit-learn.org. See: https://github.com/scikit-learn/scikit-learn/issues/21755 */display: inline-block !important;position: relative;}#sk-container-id-1 div.sk-text-repr-fallback {display: none;}</style><div id=\"sk-container-id-1\" class=\"sk-top-container\"><div class=\"sk-text-repr-fallback\"><pre>SVC(gamma=&#x27;auto&#x27;, kernel=&#x27;linear&#x27;)</pre><b>In a Jupyter environment, please rerun this cell to show the HTML representation or trust the notebook. <br />On GitHub, the HTML representation is unable to render, please try loading this page with nbviewer.org.</b></div><div class=\"sk-container\" hidden><div class=\"sk-item\"><div class=\"sk-estimator sk-toggleable\"><input class=\"sk-toggleable__control sk-hidden--visually\" id=\"sk-estimator-id-1\" type=\"checkbox\" checked><label for=\"sk-estimator-id-1\" class=\"sk-toggleable__label sk-toggleable__label-arrow\">SVC</label><div class=\"sk-toggleable__content\"><pre>SVC(gamma=&#x27;auto&#x27;, kernel=&#x27;linear&#x27;)</pre></div></div></div></div></div>"
                        ],
                        "text/plain": [
                            "SVC(gamma='auto', kernel='linear')"
                        ]
                    },
                    "execution_count": 34,
                    "metadata": {},
                    "output_type": "execute_result"
                }
            ],
            "source": [
                "classifier.fit(X_train, y_train)"
            ]
        },
        {
            "cell_type": "code",
            "execution_count": 35,
            "metadata": {},
            "outputs": [
                {
                    "name": "stdout",
                    "output_type": "stream",
                    "text": [
                        "Train:\n",
                        "              precision    recall  f1-score   support\n",
                        "\n",
                        "           0       1.00      1.00      1.00      1727\n",
                        "           1       1.00      0.99      0.99       522\n",
                        "\n",
                        "    accuracy                           1.00      2249\n",
                        "   macro avg       1.00      0.99      1.00      2249\n",
                        "weighted avg       1.00      1.00      1.00      2249\n",
                        "\n"
                    ]
                }
            ],
            "source": [
                "predictions_train = classifier.predict(X_train)\n",
                "\n",
                "print('Train:')\n",
                "print(classification_report(y_train, predictions_train))"
            ]
        },
        {
            "cell_type": "code",
            "execution_count": 36,
            "metadata": {},
            "outputs": [
                {
                    "name": "stdout",
                    "output_type": "stream",
                    "text": [
                        "Test:\n",
                        "              precision    recall  f1-score   support\n",
                        "\n",
                        "           0       0.98      0.98      0.98       576\n",
                        "           1       0.92      0.93      0.92       174\n",
                        "\n",
                        "    accuracy                           0.96       750\n",
                        "   macro avg       0.95      0.95      0.95       750\n",
                        "weighted avg       0.96      0.96      0.96       750\n",
                        "\n"
                    ]
                }
            ],
            "source": [
                "predictions = classifier.predict(X_test)\n",
                "\n",
                "print('Test:')\n",
                "print(classification_report(y_test, predictions))"
            ]
        },
        {
            "cell_type": "markdown",
            "metadata": {},
            "source": [
                "**Búsqueda de hiperparámetros**"
            ]
        },
        {
            "cell_type": "code",
            "execution_count": 41,
            "metadata": {},
            "outputs": [
                {
                    "name": "stdout",
                    "output_type": "stream",
                    "text": [
                        "Fitting 5 folds for each of 64 candidates, totalling 320 fits\n",
                        "[CV] END ......................C=0.1, gamma=1, kernel=linear; total time=   4.1s\n",
                        "[CV] END ......................C=0.1, gamma=1, kernel=linear; total time=   3.9s\n",
                        "[CV] END ......................C=0.1, gamma=1, kernel=linear; total time=   4.4s\n",
                        "[CV] END ......................C=0.1, gamma=1, kernel=linear; total time=   3.3s\n",
                        "[CV] END ......................C=0.1, gamma=1, kernel=linear; total time=   3.6s\n",
                        "[CV] END .........................C=0.1, gamma=1, kernel=rbf; total time=   8.7s\n",
                        "[CV] END .........................C=0.1, gamma=1, kernel=rbf; total time=   9.8s\n",
                        "[CV] END .........................C=0.1, gamma=1, kernel=rbf; total time=   9.9s\n",
                        "[CV] END .........................C=0.1, gamma=1, kernel=rbf; total time=   9.0s\n",
                        "[CV] END .........................C=0.1, gamma=1, kernel=rbf; total time=   9.1s\n",
                        "[CV] END ........................C=0.1, gamma=1, kernel=poly; total time=   5.6s\n",
                        "[CV] END ........................C=0.1, gamma=1, kernel=poly; total time=   5.5s\n",
                        "[CV] END ........................C=0.1, gamma=1, kernel=poly; total time=   6.5s\n",
                        "[CV] END ........................C=0.1, gamma=1, kernel=poly; total time=   5.9s\n",
                        "[CV] END ........................C=0.1, gamma=1, kernel=poly; total time=   6.9s\n",
                        "[CV] END .....................C=0.1, gamma=1, kernel=sigmoid; total time=   4.0s\n",
                        "[CV] END .....................C=0.1, gamma=1, kernel=sigmoid; total time=   3.8s\n",
                        "[CV] END .....................C=0.1, gamma=1, kernel=sigmoid; total time=   4.6s\n",
                        "[CV] END .....................C=0.1, gamma=1, kernel=sigmoid; total time=   4.5s\n",
                        "[CV] END .....................C=0.1, gamma=1, kernel=sigmoid; total time=   3.7s\n",
                        "[CV] END ....................C=0.1, gamma=0.1, kernel=linear; total time=   4.3s\n",
                        "[CV] END ....................C=0.1, gamma=0.1, kernel=linear; total time=   4.2s\n",
                        "[CV] END ....................C=0.1, gamma=0.1, kernel=linear; total time=   4.2s\n",
                        "[CV] END ....................C=0.1, gamma=0.1, kernel=linear; total time=   4.0s\n",
                        "[CV] END ....................C=0.1, gamma=0.1, kernel=linear; total time=   3.5s\n",
                        "[CV] END .......................C=0.1, gamma=0.1, kernel=rbf; total time=   4.1s\n",
                        "[CV] END .......................C=0.1, gamma=0.1, kernel=rbf; total time=   4.6s\n",
                        "[CV] END .......................C=0.1, gamma=0.1, kernel=rbf; total time=   4.1s\n",
                        "[CV] END .......................C=0.1, gamma=0.1, kernel=rbf; total time=   4.1s\n",
                        "[CV] END .......................C=0.1, gamma=0.1, kernel=rbf; total time=   4.3s\n",
                        "[CV] END ......................C=0.1, gamma=0.1, kernel=poly; total time=   7.1s\n",
                        "[CV] END ......................C=0.1, gamma=0.1, kernel=poly; total time=   6.2s\n",
                        "[CV] END ......................C=0.1, gamma=0.1, kernel=poly; total time=   6.3s\n",
                        "[CV] END ......................C=0.1, gamma=0.1, kernel=poly; total time=   6.0s\n",
                        "[CV] END ......................C=0.1, gamma=0.1, kernel=poly; total time=   5.9s\n",
                        "[CV] END ...................C=0.1, gamma=0.1, kernel=sigmoid; total time=   4.3s\n",
                        "[CV] END ...................C=0.1, gamma=0.1, kernel=sigmoid; total time=   4.7s\n",
                        "[CV] END ...................C=0.1, gamma=0.1, kernel=sigmoid; total time=   4.3s\n",
                        "[CV] END ...................C=0.1, gamma=0.1, kernel=sigmoid; total time=   3.9s\n",
                        "[CV] END ...................C=0.1, gamma=0.1, kernel=sigmoid; total time=   4.0s\n",
                        "[CV] END ...................C=0.1, gamma=0.01, kernel=linear; total time=   3.4s\n",
                        "[CV] END ...................C=0.1, gamma=0.01, kernel=linear; total time=   4.2s\n",
                        "[CV] END ...................C=0.1, gamma=0.01, kernel=linear; total time=   3.6s\n",
                        "[CV] END ...................C=0.1, gamma=0.01, kernel=linear; total time=   3.4s\n",
                        "[CV] END ...................C=0.1, gamma=0.01, kernel=linear; total time=   3.5s\n",
                        "[CV] END ......................C=0.1, gamma=0.01, kernel=rbf; total time=   4.6s\n",
                        "[CV] END ......................C=0.1, gamma=0.01, kernel=rbf; total time=   4.9s\n",
                        "[CV] END ......................C=0.1, gamma=0.01, kernel=rbf; total time=   5.4s\n",
                        "[CV] END ......................C=0.1, gamma=0.01, kernel=rbf; total time=   5.2s\n",
                        "[CV] END ......................C=0.1, gamma=0.01, kernel=rbf; total time=   5.2s\n",
                        "[CV] END .....................C=0.1, gamma=0.01, kernel=poly; total time=   3.3s\n",
                        "[CV] END .....................C=0.1, gamma=0.01, kernel=poly; total time=   3.5s\n",
                        "[CV] END .....................C=0.1, gamma=0.01, kernel=poly; total time=   3.8s\n",
                        "[CV] END .....................C=0.1, gamma=0.01, kernel=poly; total time=   3.4s\n",
                        "[CV] END .....................C=0.1, gamma=0.01, kernel=poly; total time=   3.9s\n",
                        "[CV] END ..................C=0.1, gamma=0.01, kernel=sigmoid; total time=   4.1s\n",
                        "[CV] END ..................C=0.1, gamma=0.01, kernel=sigmoid; total time=   4.2s\n",
                        "[CV] END ..................C=0.1, gamma=0.01, kernel=sigmoid; total time=   4.4s\n",
                        "[CV] END ..................C=0.1, gamma=0.01, kernel=sigmoid; total time=   5.0s\n",
                        "[CV] END ..................C=0.1, gamma=0.01, kernel=sigmoid; total time=   4.2s\n",
                        "[CV] END ..................C=0.1, gamma=0.001, kernel=linear; total time=   4.1s\n",
                        "[CV] END ..................C=0.1, gamma=0.001, kernel=linear; total time=   4.0s\n",
                        "[CV] END ..................C=0.1, gamma=0.001, kernel=linear; total time=   3.6s\n",
                        "[CV] END ..................C=0.1, gamma=0.001, kernel=linear; total time=   3.7s\n",
                        "[CV] END ..................C=0.1, gamma=0.001, kernel=linear; total time=   3.6s\n",
                        "[CV] END .....................C=0.1, gamma=0.001, kernel=rbf; total time=   4.3s\n",
                        "[CV] END .....................C=0.1, gamma=0.001, kernel=rbf; total time=   4.4s\n",
                        "[CV] END .....................C=0.1, gamma=0.001, kernel=rbf; total time=   4.1s\n",
                        "[CV] END .....................C=0.1, gamma=0.001, kernel=rbf; total time=   4.4s\n",
                        "[CV] END .....................C=0.1, gamma=0.001, kernel=rbf; total time=   4.6s\n",
                        "[CV] END ....................C=0.1, gamma=0.001, kernel=poly; total time=   4.2s\n",
                        "[CV] END ....................C=0.1, gamma=0.001, kernel=poly; total time=   3.8s\n",
                        "[CV] END ....................C=0.1, gamma=0.001, kernel=poly; total time=   4.1s\n",
                        "[CV] END ....................C=0.1, gamma=0.001, kernel=poly; total time=   3.6s\n",
                        "[CV] END ....................C=0.1, gamma=0.001, kernel=poly; total time=   3.7s\n",
                        "[CV] END .................C=0.1, gamma=0.001, kernel=sigmoid; total time=   4.3s\n",
                        "[CV] END .................C=0.1, gamma=0.001, kernel=sigmoid; total time=   4.4s\n",
                        "[CV] END .................C=0.1, gamma=0.001, kernel=sigmoid; total time=   3.4s\n",
                        "[CV] END .................C=0.1, gamma=0.001, kernel=sigmoid; total time=   4.2s\n",
                        "[CV] END .................C=0.1, gamma=0.001, kernel=sigmoid; total time=   3.5s\n",
                        "[CV] END ........................C=1, gamma=1, kernel=linear; total time=   2.7s\n",
                        "[CV] END ........................C=1, gamma=1, kernel=linear; total time=   2.8s\n",
                        "[CV] END ........................C=1, gamma=1, kernel=linear; total time=   3.0s\n",
                        "[CV] END ........................C=1, gamma=1, kernel=linear; total time=   2.7s\n",
                        "[CV] END ........................C=1, gamma=1, kernel=linear; total time=   2.8s\n",
                        "[CV] END ...........................C=1, gamma=1, kernel=rbf; total time=   8.5s\n",
                        "[CV] END ...........................C=1, gamma=1, kernel=rbf; total time=   7.4s\n",
                        "[CV] END ...........................C=1, gamma=1, kernel=rbf; total time=   8.1s\n",
                        "[CV] END ...........................C=1, gamma=1, kernel=rbf; total time=   8.1s\n",
                        "[CV] END ...........................C=1, gamma=1, kernel=rbf; total time=   8.6s\n",
                        "[CV] END ..........................C=1, gamma=1, kernel=poly; total time=   5.5s\n",
                        "[CV] END ..........................C=1, gamma=1, kernel=poly; total time=   6.9s\n",
                        "[CV] END ..........................C=1, gamma=1, kernel=poly; total time=   6.8s\n",
                        "[CV] END ..........................C=1, gamma=1, kernel=poly; total time=   6.6s\n",
                        "[CV] END ..........................C=1, gamma=1, kernel=poly; total time=   6.4s\n",
                        "[CV] END .......................C=1, gamma=1, kernel=sigmoid; total time=   2.7s\n",
                        "[CV] END .......................C=1, gamma=1, kernel=sigmoid; total time=   2.7s\n",
                        "[CV] END .......................C=1, gamma=1, kernel=sigmoid; total time=   2.5s\n",
                        "[CV] END .......................C=1, gamma=1, kernel=sigmoid; total time=   3.3s\n",
                        "[CV] END .......................C=1, gamma=1, kernel=sigmoid; total time=   2.4s\n",
                        "[CV] END ......................C=1, gamma=0.1, kernel=linear; total time=   2.8s\n",
                        "[CV] END ......................C=1, gamma=0.1, kernel=linear; total time=   2.8s\n",
                        "[CV] END ......................C=1, gamma=0.1, kernel=linear; total time=   3.3s\n",
                        "[CV] END ......................C=1, gamma=0.1, kernel=linear; total time=   3.1s\n",
                        "[CV] END ......................C=1, gamma=0.1, kernel=linear; total time=   3.2s\n",
                        "[CV] END .........................C=1, gamma=0.1, kernel=rbf; total time=   3.8s\n",
                        "[CV] END .........................C=1, gamma=0.1, kernel=rbf; total time=   3.4s\n",
                        "[CV] END .........................C=1, gamma=0.1, kernel=rbf; total time=   3.5s\n",
                        "[CV] END .........................C=1, gamma=0.1, kernel=rbf; total time=   3.4s\n",
                        "[CV] END .........................C=1, gamma=0.1, kernel=rbf; total time=   3.4s\n",
                        "[CV] END ........................C=1, gamma=0.1, kernel=poly; total time=   5.8s\n",
                        "[CV] END ........................C=1, gamma=0.1, kernel=poly; total time=   6.5s\n",
                        "[CV] END ........................C=1, gamma=0.1, kernel=poly; total time=   6.3s\n",
                        "[CV] END ........................C=1, gamma=0.1, kernel=poly; total time=   7.0s\n",
                        "[CV] END ........................C=1, gamma=0.1, kernel=poly; total time=   6.8s\n",
                        "[CV] END .....................C=1, gamma=0.1, kernel=sigmoid; total time=   4.0s\n",
                        "[CV] END .....................C=1, gamma=0.1, kernel=sigmoid; total time=   4.0s\n",
                        "[CV] END .....................C=1, gamma=0.1, kernel=sigmoid; total time=   4.0s\n",
                        "[CV] END .....................C=1, gamma=0.1, kernel=sigmoid; total time=   3.9s\n",
                        "[CV] END .....................C=1, gamma=0.1, kernel=sigmoid; total time=   3.9s\n",
                        "[CV] END .....................C=1, gamma=0.01, kernel=linear; total time=   3.2s\n",
                        "[CV] END .....................C=1, gamma=0.01, kernel=linear; total time=   2.9s\n",
                        "[CV] END .....................C=1, gamma=0.01, kernel=linear; total time=   3.4s\n",
                        "[CV] END .....................C=1, gamma=0.01, kernel=linear; total time=   2.8s\n",
                        "[CV] END .....................C=1, gamma=0.01, kernel=linear; total time=   2.9s\n",
                        "[CV] END ........................C=1, gamma=0.01, kernel=rbf; total time=   4.4s\n",
                        "[CV] END ........................C=1, gamma=0.01, kernel=rbf; total time=   4.7s\n",
                        "[CV] END ........................C=1, gamma=0.01, kernel=rbf; total time=   4.9s\n",
                        "[CV] END ........................C=1, gamma=0.01, kernel=rbf; total time=   5.1s\n",
                        "[CV] END ........................C=1, gamma=0.01, kernel=rbf; total time=   5.3s\n",
                        "[CV] END .......................C=1, gamma=0.01, kernel=poly; total time=   4.9s\n",
                        "[CV] END .......................C=1, gamma=0.01, kernel=poly; total time=   5.5s\n",
                        "[CV] END .......................C=1, gamma=0.01, kernel=poly; total time=   6.0s\n",
                        "[CV] END .......................C=1, gamma=0.01, kernel=poly; total time=   4.8s\n",
                        "[CV] END .......................C=1, gamma=0.01, kernel=poly; total time=   5.5s\n",
                        "[CV] END ....................C=1, gamma=0.01, kernel=sigmoid; total time=   5.0s\n",
                        "[CV] END ....................C=1, gamma=0.01, kernel=sigmoid; total time=   5.1s\n",
                        "[CV] END ....................C=1, gamma=0.01, kernel=sigmoid; total time=   4.6s\n",
                        "[CV] END ....................C=1, gamma=0.01, kernel=sigmoid; total time=   5.0s\n",
                        "[CV] END ....................C=1, gamma=0.01, kernel=sigmoid; total time=   4.3s\n",
                        "[CV] END ....................C=1, gamma=0.001, kernel=linear; total time=   3.6s\n",
                        "[CV] END ....................C=1, gamma=0.001, kernel=linear; total time=   3.3s\n",
                        "[CV] END ....................C=1, gamma=0.001, kernel=linear; total time=   3.8s\n",
                        "[CV] END ....................C=1, gamma=0.001, kernel=linear; total time=   3.6s\n",
                        "[CV] END ....................C=1, gamma=0.001, kernel=linear; total time=   3.2s\n",
                        "[CV] END .......................C=1, gamma=0.001, kernel=rbf; total time=   5.7s\n",
                        "[CV] END .......................C=1, gamma=0.001, kernel=rbf; total time=   5.2s\n",
                        "[CV] END .......................C=1, gamma=0.001, kernel=rbf; total time=   5.5s\n",
                        "[CV] END .......................C=1, gamma=0.001, kernel=rbf; total time=   6.0s\n",
                        "[CV] END .......................C=1, gamma=0.001, kernel=rbf; total time=   5.0s\n",
                        "[CV] END ......................C=1, gamma=0.001, kernel=poly; total time=   4.1s\n",
                        "[CV] END ......................C=1, gamma=0.001, kernel=poly; total time=   4.0s\n",
                        "[CV] END ......................C=1, gamma=0.001, kernel=poly; total time=   4.1s\n",
                        "[CV] END ......................C=1, gamma=0.001, kernel=poly; total time=   4.3s\n",
                        "[CV] END ......................C=1, gamma=0.001, kernel=poly; total time=   3.5s\n",
                        "[CV] END ...................C=1, gamma=0.001, kernel=sigmoid; total time=   4.6s\n",
                        "[CV] END ...................C=1, gamma=0.001, kernel=sigmoid; total time=   4.2s\n",
                        "[CV] END ...................C=1, gamma=0.001, kernel=sigmoid; total time=   4.9s\n",
                        "[CV] END ...................C=1, gamma=0.001, kernel=sigmoid; total time=   4.6s\n",
                        "[CV] END ...................C=1, gamma=0.001, kernel=sigmoid; total time=   5.5s\n",
                        "[CV] END .......................C=10, gamma=1, kernel=linear; total time=   3.3s\n",
                        "[CV] END .......................C=10, gamma=1, kernel=linear; total time=   3.1s\n",
                        "[CV] END .......................C=10, gamma=1, kernel=linear; total time=   3.5s\n",
                        "[CV] END .......................C=10, gamma=1, kernel=linear; total time=   4.1s\n",
                        "[CV] END .......................C=10, gamma=1, kernel=linear; total time=   3.9s\n",
                        "[CV] END ..........................C=10, gamma=1, kernel=rbf; total time=   9.3s\n",
                        "[CV] END ..........................C=10, gamma=1, kernel=rbf; total time=   8.0s\n",
                        "[CV] END ..........................C=10, gamma=1, kernel=rbf; total time=   8.6s\n",
                        "[CV] END ..........................C=10, gamma=1, kernel=rbf; total time=   7.5s\n",
                        "[CV] END ..........................C=10, gamma=1, kernel=rbf; total time=   7.2s\n",
                        "[CV] END .........................C=10, gamma=1, kernel=poly; total time=   6.7s\n",
                        "[CV] END .........................C=10, gamma=1, kernel=poly; total time=   6.5s\n",
                        "[CV] END .........................C=10, gamma=1, kernel=poly; total time=   6.6s\n",
                        "[CV] END .........................C=10, gamma=1, kernel=poly; total time=   6.5s\n",
                        "[CV] END .........................C=10, gamma=1, kernel=poly; total time=   6.0s\n",
                        "[CV] END ......................C=10, gamma=1, kernel=sigmoid; total time=   2.3s\n",
                        "[CV] END ......................C=10, gamma=1, kernel=sigmoid; total time=   2.0s\n",
                        "[CV] END ......................C=10, gamma=1, kernel=sigmoid; total time=   1.9s\n",
                        "[CV] END ......................C=10, gamma=1, kernel=sigmoid; total time=   2.4s\n",
                        "[CV] END ......................C=10, gamma=1, kernel=sigmoid; total time=   2.2s\n",
                        "[CV] END .....................C=10, gamma=0.1, kernel=linear; total time=   2.7s\n",
                        "[CV] END .....................C=10, gamma=0.1, kernel=linear; total time=   3.1s\n",
                        "[CV] END .....................C=10, gamma=0.1, kernel=linear; total time=   2.7s\n",
                        "[CV] END .....................C=10, gamma=0.1, kernel=linear; total time=   2.8s\n",
                        "[CV] END .....................C=10, gamma=0.1, kernel=linear; total time=   2.9s\n",
                        "[CV] END ........................C=10, gamma=0.1, kernel=rbf; total time=   3.5s\n",
                        "[CV] END ........................C=10, gamma=0.1, kernel=rbf; total time=   3.0s\n",
                        "[CV] END ........................C=10, gamma=0.1, kernel=rbf; total time=   3.0s\n",
                        "[CV] END ........................C=10, gamma=0.1, kernel=rbf; total time=   3.1s\n",
                        "[CV] END ........................C=10, gamma=0.1, kernel=rbf; total time=   3.7s\n",
                        "[CV] END .......................C=10, gamma=0.1, kernel=poly; total time=   5.9s\n",
                        "[CV] END .......................C=10, gamma=0.1, kernel=poly; total time=   6.8s\n",
                        "[CV] END .......................C=10, gamma=0.1, kernel=poly; total time=   6.5s\n",
                        "[CV] END .......................C=10, gamma=0.1, kernel=poly; total time=   7.1s\n",
                        "[CV] END .......................C=10, gamma=0.1, kernel=poly; total time=   7.0s\n",
                        "[CV] END ....................C=10, gamma=0.1, kernel=sigmoid; total time=   2.3s\n",
                        "[CV] END ....................C=10, gamma=0.1, kernel=sigmoid; total time=   2.3s\n",
                        "[CV] END ....................C=10, gamma=0.1, kernel=sigmoid; total time=   2.8s\n",
                        "[CV] END ....................C=10, gamma=0.1, kernel=sigmoid; total time=   2.2s\n",
                        "[CV] END ....................C=10, gamma=0.1, kernel=sigmoid; total time=   2.9s\n",
                        "[CV] END ....................C=10, gamma=0.01, kernel=linear; total time=   2.8s\n",
                        "[CV] END ....................C=10, gamma=0.01, kernel=linear; total time=   3.2s\n",
                        "[CV] END ....................C=10, gamma=0.01, kernel=linear; total time=   2.6s\n",
                        "[CV] END ....................C=10, gamma=0.01, kernel=linear; total time=   3.2s\n",
                        "[CV] END ....................C=10, gamma=0.01, kernel=linear; total time=   2.9s\n",
                        "[CV] END .......................C=10, gamma=0.01, kernel=rbf; total time=   3.2s\n",
                        "[CV] END .......................C=10, gamma=0.01, kernel=rbf; total time=   3.3s\n",
                        "[CV] END .......................C=10, gamma=0.01, kernel=rbf; total time=   3.9s\n",
                        "[CV] END .......................C=10, gamma=0.01, kernel=rbf; total time=   3.1s\n",
                        "[CV] END .......................C=10, gamma=0.01, kernel=rbf; total time=   3.3s\n",
                        "[CV] END ......................C=10, gamma=0.01, kernel=poly; total time=   7.0s\n",
                        "[CV] END ......................C=10, gamma=0.01, kernel=poly; total time=   5.8s\n",
                        "[CV] END ......................C=10, gamma=0.01, kernel=poly; total time=   7.0s\n",
                        "[CV] END ......................C=10, gamma=0.01, kernel=poly; total time=   7.3s\n",
                        "[CV] END ......................C=10, gamma=0.01, kernel=poly; total time=   6.1s\n",
                        "[CV] END ...................C=10, gamma=0.01, kernel=sigmoid; total time=   3.5s\n",
                        "[CV] END ...................C=10, gamma=0.01, kernel=sigmoid; total time=   3.9s\n",
                        "[CV] END ...................C=10, gamma=0.01, kernel=sigmoid; total time=   4.6s\n",
                        "[CV] END ...................C=10, gamma=0.01, kernel=sigmoid; total time=   4.0s\n",
                        "[CV] END ...................C=10, gamma=0.01, kernel=sigmoid; total time=   4.6s\n",
                        "[CV] END ...................C=10, gamma=0.001, kernel=linear; total time=   3.2s\n",
                        "[CV] END ...................C=10, gamma=0.001, kernel=linear; total time=   2.8s\n",
                        "[CV] END ...................C=10, gamma=0.001, kernel=linear; total time=   2.7s\n",
                        "[CV] END ...................C=10, gamma=0.001, kernel=linear; total time=   3.7s\n",
                        "[CV] END ...................C=10, gamma=0.001, kernel=linear; total time=   2.9s\n",
                        "[CV] END ......................C=10, gamma=0.001, kernel=rbf; total time=   4.9s\n",
                        "[CV] END ......................C=10, gamma=0.001, kernel=rbf; total time=   4.8s\n",
                        "[CV] END ......................C=10, gamma=0.001, kernel=rbf; total time=   5.3s\n",
                        "[CV] END ......................C=10, gamma=0.001, kernel=rbf; total time=   4.7s\n",
                        "[CV] END ......................C=10, gamma=0.001, kernel=rbf; total time=   5.8s\n",
                        "[CV] END .....................C=10, gamma=0.001, kernel=poly; total time=   3.6s\n",
                        "[CV] END .....................C=10, gamma=0.001, kernel=poly; total time=   4.5s\n",
                        "[CV] END .....................C=10, gamma=0.001, kernel=poly; total time=   3.8s\n",
                        "[CV] END .....................C=10, gamma=0.001, kernel=poly; total time=   3.6s\n",
                        "[CV] END .....................C=10, gamma=0.001, kernel=poly; total time=   4.3s\n",
                        "[CV] END ..................C=10, gamma=0.001, kernel=sigmoid; total time=   5.1s\n",
                        "[CV] END ..................C=10, gamma=0.001, kernel=sigmoid; total time=   4.5s\n",
                        "[CV] END ..................C=10, gamma=0.001, kernel=sigmoid; total time=   4.9s\n",
                        "[CV] END ..................C=10, gamma=0.001, kernel=sigmoid; total time=   5.4s\n",
                        "[CV] END ..................C=10, gamma=0.001, kernel=sigmoid; total time=   5.9s\n",
                        "[CV] END ......................C=100, gamma=1, kernel=linear; total time=   3.5s\n",
                        "[CV] END ......................C=100, gamma=1, kernel=linear; total time=   2.9s\n",
                        "[CV] END ......................C=100, gamma=1, kernel=linear; total time=   2.6s\n",
                        "[CV] END ......................C=100, gamma=1, kernel=linear; total time=   3.3s\n",
                        "[CV] END ......................C=100, gamma=1, kernel=linear; total time=   3.7s\n",
                        "[CV] END .........................C=100, gamma=1, kernel=rbf; total time=   9.3s\n",
                        "[CV] END .........................C=100, gamma=1, kernel=rbf; total time=   9.8s\n",
                        "[CV] END .........................C=100, gamma=1, kernel=rbf; total time=  11.8s\n",
                        "[CV] END .........................C=100, gamma=1, kernel=rbf; total time=  11.6s\n",
                        "[CV] END .........................C=100, gamma=1, kernel=rbf; total time=  11.4s\n",
                        "[CV] END ........................C=100, gamma=1, kernel=poly; total time=   7.7s\n",
                        "[CV] END ........................C=100, gamma=1, kernel=poly; total time=   6.7s\n",
                        "[CV] END ........................C=100, gamma=1, kernel=poly; total time=   6.9s\n",
                        "[CV] END ........................C=100, gamma=1, kernel=poly; total time=   5.9s\n",
                        "[CV] END ........................C=100, gamma=1, kernel=poly; total time=   6.5s\n",
                        "[CV] END .....................C=100, gamma=1, kernel=sigmoid; total time=   1.7s\n",
                        "[CV] END .....................C=100, gamma=1, kernel=sigmoid; total time=   1.7s\n",
                        "[CV] END .....................C=100, gamma=1, kernel=sigmoid; total time=   2.1s\n",
                        "[CV] END .....................C=100, gamma=1, kernel=sigmoid; total time=   1.7s\n",
                        "[CV] END .....................C=100, gamma=1, kernel=sigmoid; total time=   2.0s\n",
                        "[CV] END ....................C=100, gamma=0.1, kernel=linear; total time=   3.1s\n",
                        "[CV] END ....................C=100, gamma=0.1, kernel=linear; total time=   2.8s\n",
                        "[CV] END ....................C=100, gamma=0.1, kernel=linear; total time=   3.2s\n",
                        "[CV] END ....................C=100, gamma=0.1, kernel=linear; total time=   2.7s\n",
                        "[CV] END ....................C=100, gamma=0.1, kernel=linear; total time=   2.9s\n",
                        "[CV] END .......................C=100, gamma=0.1, kernel=rbf; total time=   2.6s\n",
                        "[CV] END .......................C=100, gamma=0.1, kernel=rbf; total time=   2.5s\n",
                        "[CV] END .......................C=100, gamma=0.1, kernel=rbf; total time=   3.3s\n",
                        "[CV] END .......................C=100, gamma=0.1, kernel=rbf; total time=   2.6s\n",
                        "[CV] END .......................C=100, gamma=0.1, kernel=rbf; total time=   3.1s\n",
                        "[CV] END ......................C=100, gamma=0.1, kernel=poly; total time=   5.8s\n",
                        "[CV] END ......................C=100, gamma=0.1, kernel=poly; total time=   6.6s\n",
                        "[CV] END ......................C=100, gamma=0.1, kernel=poly; total time=   6.9s\n",
                        "[CV] END ......................C=100, gamma=0.1, kernel=poly; total time=   6.6s\n",
                        "[CV] END ......................C=100, gamma=0.1, kernel=poly; total time=   6.8s\n",
                        "[CV] END ...................C=100, gamma=0.1, kernel=sigmoid; total time=   1.3s\n",
                        "[CV] END ...................C=100, gamma=0.1, kernel=sigmoid; total time=   1.2s\n",
                        "[CV] END ...................C=100, gamma=0.1, kernel=sigmoid; total time=   1.3s\n",
                        "[CV] END ...................C=100, gamma=0.1, kernel=sigmoid; total time=   1.1s\n",
                        "[CV] END ...................C=100, gamma=0.1, kernel=sigmoid; total time=   1.6s\n",
                        "[CV] END ...................C=100, gamma=0.01, kernel=linear; total time=   3.2s\n",
                        "[CV] END ...................C=100, gamma=0.01, kernel=linear; total time=   3.2s\n",
                        "[CV] END ...................C=100, gamma=0.01, kernel=linear; total time=   2.6s\n",
                        "[CV] END ...................C=100, gamma=0.01, kernel=linear; total time=   2.7s\n",
                        "[CV] END ...................C=100, gamma=0.01, kernel=linear; total time=   3.3s\n",
                        "[CV] END ......................C=100, gamma=0.01, kernel=rbf; total time=   2.7s\n",
                        "[CV] END ......................C=100, gamma=0.01, kernel=rbf; total time=   2.7s\n",
                        "[CV] END ......................C=100, gamma=0.01, kernel=rbf; total time=   2.8s\n",
                        "[CV] END ......................C=100, gamma=0.01, kernel=rbf; total time=   3.1s\n",
                        "[CV] END ......................C=100, gamma=0.01, kernel=rbf; total time=   3.1s\n",
                        "[CV] END .....................C=100, gamma=0.01, kernel=poly; total time=   5.8s\n",
                        "[CV] END .....................C=100, gamma=0.01, kernel=poly; total time=   7.0s\n",
                        "[CV] END .....................C=100, gamma=0.01, kernel=poly; total time=   5.8s\n",
                        "[CV] END .....................C=100, gamma=0.01, kernel=poly; total time=   5.8s\n",
                        "[CV] END .....................C=100, gamma=0.01, kernel=poly; total time=   5.9s\n",
                        "[CV] END ..................C=100, gamma=0.01, kernel=sigmoid; total time=   2.9s\n",
                        "[CV] END ..................C=100, gamma=0.01, kernel=sigmoid; total time=   2.8s\n",
                        "[CV] END ..................C=100, gamma=0.01, kernel=sigmoid; total time=   3.6s\n",
                        "[CV] END ..................C=100, gamma=0.01, kernel=sigmoid; total time=   2.9s\n",
                        "[CV] END ..................C=100, gamma=0.01, kernel=sigmoid; total time=   2.8s\n",
                        "[CV] END ..................C=100, gamma=0.001, kernel=linear; total time=   2.7s\n",
                        "[CV] END ..................C=100, gamma=0.001, kernel=linear; total time=   3.2s\n",
                        "[CV] END ..................C=100, gamma=0.001, kernel=linear; total time=   2.6s\n",
                        "[CV] END ..................C=100, gamma=0.001, kernel=linear; total time=   2.8s\n",
                        "[CV] END ..................C=100, gamma=0.001, kernel=linear; total time=   3.1s\n",
                        "[CV] END .....................C=100, gamma=0.001, kernel=rbf; total time=   3.5s\n",
                        "[CV] END .....................C=100, gamma=0.001, kernel=rbf; total time=   3.5s\n",
                        "[CV] END .....................C=100, gamma=0.001, kernel=rbf; total time=   3.7s\n",
                        "[CV] END .....................C=100, gamma=0.001, kernel=rbf; total time=   4.3s\n",
                        "[CV] END .....................C=100, gamma=0.001, kernel=rbf; total time=   3.7s\n",
                        "[CV] END ....................C=100, gamma=0.001, kernel=poly; total time=   3.7s\n",
                        "[CV] END ....................C=100, gamma=0.001, kernel=poly; total time=   3.9s\n",
                        "[CV] END ....................C=100, gamma=0.001, kernel=poly; total time=   4.2s\n",
                        "[CV] END ....................C=100, gamma=0.001, kernel=poly; total time=   3.4s\n",
                        "[CV] END ....................C=100, gamma=0.001, kernel=poly; total time=   4.0s\n",
                        "[CV] END .................C=100, gamma=0.001, kernel=sigmoid; total time=   3.6s\n",
                        "[CV] END .................C=100, gamma=0.001, kernel=sigmoid; total time=   3.8s\n",
                        "[CV] END .................C=100, gamma=0.001, kernel=sigmoid; total time=   3.5s\n",
                        "[CV] END .................C=100, gamma=0.001, kernel=sigmoid; total time=   4.1s\n",
                        "[CV] END .................C=100, gamma=0.001, kernel=sigmoid; total time=   4.5s\n"
                    ]
                },
                {
                    "data": {
                        "text/html": [
                            "<style>#sk-container-id-3 {color: black;background-color: white;}#sk-container-id-3 pre{padding: 0;}#sk-container-id-3 div.sk-toggleable {background-color: white;}#sk-container-id-3 label.sk-toggleable__label {cursor: pointer;display: block;width: 100%;margin-bottom: 0;padding: 0.3em;box-sizing: border-box;text-align: center;}#sk-container-id-3 label.sk-toggleable__label-arrow:before {content: \"▸\";float: left;margin-right: 0.25em;color: #696969;}#sk-container-id-3 label.sk-toggleable__label-arrow:hover:before {color: black;}#sk-container-id-3 div.sk-estimator:hover label.sk-toggleable__label-arrow:before {color: black;}#sk-container-id-3 div.sk-toggleable__content {max-height: 0;max-width: 0;overflow: hidden;text-align: left;background-color: #f0f8ff;}#sk-container-id-3 div.sk-toggleable__content pre {margin: 0.2em;color: black;border-radius: 0.25em;background-color: #f0f8ff;}#sk-container-id-3 input.sk-toggleable__control:checked~div.sk-toggleable__content {max-height: 200px;max-width: 100%;overflow: auto;}#sk-container-id-3 input.sk-toggleable__control:checked~label.sk-toggleable__label-arrow:before {content: \"▾\";}#sk-container-id-3 div.sk-estimator input.sk-toggleable__control:checked~label.sk-toggleable__label {background-color: #d4ebff;}#sk-container-id-3 div.sk-label input.sk-toggleable__control:checked~label.sk-toggleable__label {background-color: #d4ebff;}#sk-container-id-3 input.sk-hidden--visually {border: 0;clip: rect(1px 1px 1px 1px);clip: rect(1px, 1px, 1px, 1px);height: 1px;margin: -1px;overflow: hidden;padding: 0;position: absolute;width: 1px;}#sk-container-id-3 div.sk-estimator {font-family: monospace;background-color: #f0f8ff;border: 1px dotted black;border-radius: 0.25em;box-sizing: border-box;margin-bottom: 0.5em;}#sk-container-id-3 div.sk-estimator:hover {background-color: #d4ebff;}#sk-container-id-3 div.sk-parallel-item::after {content: \"\";width: 100%;border-bottom: 1px solid gray;flex-grow: 1;}#sk-container-id-3 div.sk-label:hover label.sk-toggleable__label {background-color: #d4ebff;}#sk-container-id-3 div.sk-serial::before {content: \"\";position: absolute;border-left: 1px solid gray;box-sizing: border-box;top: 0;bottom: 0;left: 50%;z-index: 0;}#sk-container-id-3 div.sk-serial {display: flex;flex-direction: column;align-items: center;background-color: white;padding-right: 0.2em;padding-left: 0.2em;position: relative;}#sk-container-id-3 div.sk-item {position: relative;z-index: 1;}#sk-container-id-3 div.sk-parallel {display: flex;align-items: stretch;justify-content: center;background-color: white;position: relative;}#sk-container-id-3 div.sk-item::before, #sk-container-id-3 div.sk-parallel-item::before {content: \"\";position: absolute;border-left: 1px solid gray;box-sizing: border-box;top: 0;bottom: 0;left: 50%;z-index: -1;}#sk-container-id-3 div.sk-parallel-item {display: flex;flex-direction: column;z-index: 1;position: relative;background-color: white;}#sk-container-id-3 div.sk-parallel-item:first-child::after {align-self: flex-end;width: 50%;}#sk-container-id-3 div.sk-parallel-item:last-child::after {align-self: flex-start;width: 50%;}#sk-container-id-3 div.sk-parallel-item:only-child::after {width: 0;}#sk-container-id-3 div.sk-dashed-wrapped {border: 1px dashed gray;margin: 0 0.4em 0.5em 0.4em;box-sizing: border-box;padding-bottom: 0.4em;background-color: white;}#sk-container-id-3 div.sk-label label {font-family: monospace;font-weight: bold;display: inline-block;line-height: 1.2em;}#sk-container-id-3 div.sk-label-container {text-align: center;}#sk-container-id-3 div.sk-container {/* jupyter's `normalize.less` sets `[hidden] { display: none; }` but bootstrap.min.css set `[hidden] { display: none !important; }` so we also need the `!important` here to be able to override the default hidden behavior on the sphinx rendered scikit-learn.org. See: https://github.com/scikit-learn/scikit-learn/issues/21755 */display: inline-block !important;position: relative;}#sk-container-id-3 div.sk-text-repr-fallback {display: none;}</style><div id=\"sk-container-id-3\" class=\"sk-top-container\"><div class=\"sk-text-repr-fallback\"><pre>GridSearchCV(estimator=SVC(random_state=1234),\n",
                            "             param_grid={&#x27;C&#x27;: [0.1, 1, 10, 100], &#x27;gamma&#x27;: [1, 0.1, 0.01, 0.001],\n",
                            "                         &#x27;kernel&#x27;: [&#x27;linear&#x27;, &#x27;rbf&#x27;, &#x27;poly&#x27;, &#x27;sigmoid&#x27;]},\n",
                            "             verbose=2)</pre><b>In a Jupyter environment, please rerun this cell to show the HTML representation or trust the notebook. <br />On GitHub, the HTML representation is unable to render, please try loading this page with nbviewer.org.</b></div><div class=\"sk-container\" hidden><div class=\"sk-item sk-dashed-wrapped\"><div class=\"sk-label-container\"><div class=\"sk-label sk-toggleable\"><input class=\"sk-toggleable__control sk-hidden--visually\" id=\"sk-estimator-id-3\" type=\"checkbox\" ><label for=\"sk-estimator-id-3\" class=\"sk-toggleable__label sk-toggleable__label-arrow\">GridSearchCV</label><div class=\"sk-toggleable__content\"><pre>GridSearchCV(estimator=SVC(random_state=1234),\n",
                            "             param_grid={&#x27;C&#x27;: [0.1, 1, 10, 100], &#x27;gamma&#x27;: [1, 0.1, 0.01, 0.001],\n",
                            "                         &#x27;kernel&#x27;: [&#x27;linear&#x27;, &#x27;rbf&#x27;, &#x27;poly&#x27;, &#x27;sigmoid&#x27;]},\n",
                            "             verbose=2)</pre></div></div></div><div class=\"sk-parallel\"><div class=\"sk-parallel-item\"><div class=\"sk-item\"><div class=\"sk-label-container\"><div class=\"sk-label sk-toggleable\"><input class=\"sk-toggleable__control sk-hidden--visually\" id=\"sk-estimator-id-4\" type=\"checkbox\" ><label for=\"sk-estimator-id-4\" class=\"sk-toggleable__label sk-toggleable__label-arrow\">estimator: SVC</label><div class=\"sk-toggleable__content\"><pre>SVC(random_state=1234)</pre></div></div></div><div class=\"sk-serial\"><div class=\"sk-item\"><div class=\"sk-estimator sk-toggleable\"><input class=\"sk-toggleable__control sk-hidden--visually\" id=\"sk-estimator-id-5\" type=\"checkbox\" ><label for=\"sk-estimator-id-5\" class=\"sk-toggleable__label sk-toggleable__label-arrow\">SVC</label><div class=\"sk-toggleable__content\"><pre>SVC(random_state=1234)</pre></div></div></div></div></div></div></div></div></div></div>"
                        ],
                        "text/plain": [
                            "GridSearchCV(estimator=SVC(random_state=1234),\n",
                            "             param_grid={'C': [0.1, 1, 10, 100], 'gamma': [1, 0.1, 0.01, 0.001],\n",
                            "                         'kernel': ['linear', 'rbf', 'poly', 'sigmoid']},\n",
                            "             verbose=2)"
                        ]
                    },
                    "execution_count": 41,
                    "metadata": {},
                    "output_type": "execute_result"
                }
            ],
            "source": [
                "param_grid = {'C': [0.1, 1, 10, 100], 'gamma': [1, 0.1 , 0.01 , 0.001], 'kernel': ['linear', 'rbf', 'poly', 'sigmoid']}\n",
                "\n",
                "grid = GridSearchCV(SVC(random_state=1234), param_grid, verbose=2)\n",
                "grid.fit(X_train, y_train)"
            ]
        },
        {
            "cell_type": "code",
            "execution_count": 42,
            "metadata": {},
            "outputs": [
                {
                    "data": {
                        "text/html": [
                            "<style>#sk-container-id-4 {color: black;background-color: white;}#sk-container-id-4 pre{padding: 0;}#sk-container-id-4 div.sk-toggleable {background-color: white;}#sk-container-id-4 label.sk-toggleable__label {cursor: pointer;display: block;width: 100%;margin-bottom: 0;padding: 0.3em;box-sizing: border-box;text-align: center;}#sk-container-id-4 label.sk-toggleable__label-arrow:before {content: \"▸\";float: left;margin-right: 0.25em;color: #696969;}#sk-container-id-4 label.sk-toggleable__label-arrow:hover:before {color: black;}#sk-container-id-4 div.sk-estimator:hover label.sk-toggleable__label-arrow:before {color: black;}#sk-container-id-4 div.sk-toggleable__content {max-height: 0;max-width: 0;overflow: hidden;text-align: left;background-color: #f0f8ff;}#sk-container-id-4 div.sk-toggleable__content pre {margin: 0.2em;color: black;border-radius: 0.25em;background-color: #f0f8ff;}#sk-container-id-4 input.sk-toggleable__control:checked~div.sk-toggleable__content {max-height: 200px;max-width: 100%;overflow: auto;}#sk-container-id-4 input.sk-toggleable__control:checked~label.sk-toggleable__label-arrow:before {content: \"▾\";}#sk-container-id-4 div.sk-estimator input.sk-toggleable__control:checked~label.sk-toggleable__label {background-color: #d4ebff;}#sk-container-id-4 div.sk-label input.sk-toggleable__control:checked~label.sk-toggleable__label {background-color: #d4ebff;}#sk-container-id-4 input.sk-hidden--visually {border: 0;clip: rect(1px 1px 1px 1px);clip: rect(1px, 1px, 1px, 1px);height: 1px;margin: -1px;overflow: hidden;padding: 0;position: absolute;width: 1px;}#sk-container-id-4 div.sk-estimator {font-family: monospace;background-color: #f0f8ff;border: 1px dotted black;border-radius: 0.25em;box-sizing: border-box;margin-bottom: 0.5em;}#sk-container-id-4 div.sk-estimator:hover {background-color: #d4ebff;}#sk-container-id-4 div.sk-parallel-item::after {content: \"\";width: 100%;border-bottom: 1px solid gray;flex-grow: 1;}#sk-container-id-4 div.sk-label:hover label.sk-toggleable__label {background-color: #d4ebff;}#sk-container-id-4 div.sk-serial::before {content: \"\";position: absolute;border-left: 1px solid gray;box-sizing: border-box;top: 0;bottom: 0;left: 50%;z-index: 0;}#sk-container-id-4 div.sk-serial {display: flex;flex-direction: column;align-items: center;background-color: white;padding-right: 0.2em;padding-left: 0.2em;position: relative;}#sk-container-id-4 div.sk-item {position: relative;z-index: 1;}#sk-container-id-4 div.sk-parallel {display: flex;align-items: stretch;justify-content: center;background-color: white;position: relative;}#sk-container-id-4 div.sk-item::before, #sk-container-id-4 div.sk-parallel-item::before {content: \"\";position: absolute;border-left: 1px solid gray;box-sizing: border-box;top: 0;bottom: 0;left: 50%;z-index: -1;}#sk-container-id-4 div.sk-parallel-item {display: flex;flex-direction: column;z-index: 1;position: relative;background-color: white;}#sk-container-id-4 div.sk-parallel-item:first-child::after {align-self: flex-end;width: 50%;}#sk-container-id-4 div.sk-parallel-item:last-child::after {align-self: flex-start;width: 50%;}#sk-container-id-4 div.sk-parallel-item:only-child::after {width: 0;}#sk-container-id-4 div.sk-dashed-wrapped {border: 1px dashed gray;margin: 0 0.4em 0.5em 0.4em;box-sizing: border-box;padding-bottom: 0.4em;background-color: white;}#sk-container-id-4 div.sk-label label {font-family: monospace;font-weight: bold;display: inline-block;line-height: 1.2em;}#sk-container-id-4 div.sk-label-container {text-align: center;}#sk-container-id-4 div.sk-container {/* jupyter's `normalize.less` sets `[hidden] { display: none; }` but bootstrap.min.css set `[hidden] { display: none !important; }` so we also need the `!important` here to be able to override the default hidden behavior on the sphinx rendered scikit-learn.org. See: https://github.com/scikit-learn/scikit-learn/issues/21755 */display: inline-block !important;position: relative;}#sk-container-id-4 div.sk-text-repr-fallback {display: none;}</style><div id=\"sk-container-id-4\" class=\"sk-top-container\"><div class=\"sk-text-repr-fallback\"><pre>SVC(C=10, gamma=0.1, random_state=1234)</pre><b>In a Jupyter environment, please rerun this cell to show the HTML representation or trust the notebook. <br />On GitHub, the HTML representation is unable to render, please try loading this page with nbviewer.org.</b></div><div class=\"sk-container\" hidden><div class=\"sk-item\"><div class=\"sk-estimator sk-toggleable\"><input class=\"sk-toggleable__control sk-hidden--visually\" id=\"sk-estimator-id-6\" type=\"checkbox\" checked><label for=\"sk-estimator-id-6\" class=\"sk-toggleable__label sk-toggleable__label-arrow\">SVC</label><div class=\"sk-toggleable__content\"><pre>SVC(C=10, gamma=0.1, random_state=1234)</pre></div></div></div></div></div>"
                        ],
                        "text/plain": [
                            "SVC(C=10, gamma=0.1, random_state=1234)"
                        ]
                    },
                    "execution_count": 42,
                    "metadata": {},
                    "output_type": "execute_result"
                }
            ],
            "source": [
                "grid.best_estimator_"
            ]
        },
        {
            "cell_type": "markdown",
            "metadata": {},
            "source": [
                "**Construcción del modelo con los hiperparámetros encontrados**"
            ]
        },
        {
            "cell_type": "code",
            "execution_count": 43,
            "metadata": {},
            "outputs": [],
            "source": [
                "classifier_hp = SVC(C=10, gamma=0.1, random_state=1234)"
            ]
        },
        {
            "cell_type": "code",
            "execution_count": 44,
            "metadata": {},
            "outputs": [
                {
                    "data": {
                        "text/html": [
                            "<style>#sk-container-id-5 {color: black;background-color: white;}#sk-container-id-5 pre{padding: 0;}#sk-container-id-5 div.sk-toggleable {background-color: white;}#sk-container-id-5 label.sk-toggleable__label {cursor: pointer;display: block;width: 100%;margin-bottom: 0;padding: 0.3em;box-sizing: border-box;text-align: center;}#sk-container-id-5 label.sk-toggleable__label-arrow:before {content: \"▸\";float: left;margin-right: 0.25em;color: #696969;}#sk-container-id-5 label.sk-toggleable__label-arrow:hover:before {color: black;}#sk-container-id-5 div.sk-estimator:hover label.sk-toggleable__label-arrow:before {color: black;}#sk-container-id-5 div.sk-toggleable__content {max-height: 0;max-width: 0;overflow: hidden;text-align: left;background-color: #f0f8ff;}#sk-container-id-5 div.sk-toggleable__content pre {margin: 0.2em;color: black;border-radius: 0.25em;background-color: #f0f8ff;}#sk-container-id-5 input.sk-toggleable__control:checked~div.sk-toggleable__content {max-height: 200px;max-width: 100%;overflow: auto;}#sk-container-id-5 input.sk-toggleable__control:checked~label.sk-toggleable__label-arrow:before {content: \"▾\";}#sk-container-id-5 div.sk-estimator input.sk-toggleable__control:checked~label.sk-toggleable__label {background-color: #d4ebff;}#sk-container-id-5 div.sk-label input.sk-toggleable__control:checked~label.sk-toggleable__label {background-color: #d4ebff;}#sk-container-id-5 input.sk-hidden--visually {border: 0;clip: rect(1px 1px 1px 1px);clip: rect(1px, 1px, 1px, 1px);height: 1px;margin: -1px;overflow: hidden;padding: 0;position: absolute;width: 1px;}#sk-container-id-5 div.sk-estimator {font-family: monospace;background-color: #f0f8ff;border: 1px dotted black;border-radius: 0.25em;box-sizing: border-box;margin-bottom: 0.5em;}#sk-container-id-5 div.sk-estimator:hover {background-color: #d4ebff;}#sk-container-id-5 div.sk-parallel-item::after {content: \"\";width: 100%;border-bottom: 1px solid gray;flex-grow: 1;}#sk-container-id-5 div.sk-label:hover label.sk-toggleable__label {background-color: #d4ebff;}#sk-container-id-5 div.sk-serial::before {content: \"\";position: absolute;border-left: 1px solid gray;box-sizing: border-box;top: 0;bottom: 0;left: 50%;z-index: 0;}#sk-container-id-5 div.sk-serial {display: flex;flex-direction: column;align-items: center;background-color: white;padding-right: 0.2em;padding-left: 0.2em;position: relative;}#sk-container-id-5 div.sk-item {position: relative;z-index: 1;}#sk-container-id-5 div.sk-parallel {display: flex;align-items: stretch;justify-content: center;background-color: white;position: relative;}#sk-container-id-5 div.sk-item::before, #sk-container-id-5 div.sk-parallel-item::before {content: \"\";position: absolute;border-left: 1px solid gray;box-sizing: border-box;top: 0;bottom: 0;left: 50%;z-index: -1;}#sk-container-id-5 div.sk-parallel-item {display: flex;flex-direction: column;z-index: 1;position: relative;background-color: white;}#sk-container-id-5 div.sk-parallel-item:first-child::after {align-self: flex-end;width: 50%;}#sk-container-id-5 div.sk-parallel-item:last-child::after {align-self: flex-start;width: 50%;}#sk-container-id-5 div.sk-parallel-item:only-child::after {width: 0;}#sk-container-id-5 div.sk-dashed-wrapped {border: 1px dashed gray;margin: 0 0.4em 0.5em 0.4em;box-sizing: border-box;padding-bottom: 0.4em;background-color: white;}#sk-container-id-5 div.sk-label label {font-family: monospace;font-weight: bold;display: inline-block;line-height: 1.2em;}#sk-container-id-5 div.sk-label-container {text-align: center;}#sk-container-id-5 div.sk-container {/* jupyter's `normalize.less` sets `[hidden] { display: none; }` but bootstrap.min.css set `[hidden] { display: none !important; }` so we also need the `!important` here to be able to override the default hidden behavior on the sphinx rendered scikit-learn.org. See: https://github.com/scikit-learn/scikit-learn/issues/21755 */display: inline-block !important;position: relative;}#sk-container-id-5 div.sk-text-repr-fallback {display: none;}</style><div id=\"sk-container-id-5\" class=\"sk-top-container\"><div class=\"sk-text-repr-fallback\"><pre>SVC(C=10, gamma=0.1, random_state=1234)</pre><b>In a Jupyter environment, please rerun this cell to show the HTML representation or trust the notebook. <br />On GitHub, the HTML representation is unable to render, please try loading this page with nbviewer.org.</b></div><div class=\"sk-container\" hidden><div class=\"sk-item\"><div class=\"sk-estimator sk-toggleable\"><input class=\"sk-toggleable__control sk-hidden--visually\" id=\"sk-estimator-id-7\" type=\"checkbox\" checked><label for=\"sk-estimator-id-7\" class=\"sk-toggleable__label sk-toggleable__label-arrow\">SVC</label><div class=\"sk-toggleable__content\"><pre>SVC(C=10, gamma=0.1, random_state=1234)</pre></div></div></div></div></div>"
                        ],
                        "text/plain": [
                            "SVC(C=10, gamma=0.1, random_state=1234)"
                        ]
                    },
                    "execution_count": 44,
                    "metadata": {},
                    "output_type": "execute_result"
                }
            ],
            "source": [
                "classifier_hp.fit(X_train, y_train)"
            ]
        },
        {
            "cell_type": "code",
            "execution_count": 45,
            "metadata": {},
            "outputs": [
                {
                    "name": "stdout",
                    "output_type": "stream",
                    "text": [
                        "              precision    recall  f1-score   support\n",
                        "\n",
                        "           0       0.98      0.97      0.98       576\n",
                        "           1       0.91      0.94      0.92       174\n",
                        "\n",
                        "    accuracy                           0.96       750\n",
                        "   macro avg       0.94      0.95      0.95       750\n",
                        "weighted avg       0.96      0.96      0.96       750\n",
                        "\n"
                    ]
                }
            ],
            "source": [
                "predictions_hp = classifier_hp.predict(X_test)\n",
                "\n",
                "print(classification_report(y_test, predictions_hp))"
            ]
        }
    ],
    "metadata": {
        "kernelspec": {
            "display_name": "Python 3.8.13 64-bit ('3.8.13')",
            "language": "python",
            "name": "python3"
        },
        "language_info": {
            "codemirror_mode": {
                "name": "ipython",
                "version": 3
            },
            "file_extension": ".py",
            "mimetype": "text/x-python",
            "name": "python",
            "nbconvert_exporter": "python",
            "pygments_lexer": "ipython3",
            "version": "3.8.13"
        },
        "orig_nbformat": 4,
        "vscode": {
            "interpreter": {
                "hash": "110cc1dee26208153f2972f08a2ad52b6a56238dc66d48e87fb757ef2996db56"
            }
        }
    },
    "nbformat": 4,
    "nbformat_minor": 2
}
